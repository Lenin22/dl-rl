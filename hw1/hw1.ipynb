{
 "cells": [
  {
   "cell_type": "code",
   "execution_count": 1,
   "metadata": {},
   "outputs": [],
   "source": [
    "import gym\n",
    "import random\n",
    "import numpy as np\n",
    "from tqdm import tqdm\n",
    "import matplotlib.pyplot as plt\n",
    "%matplotlib inline\n",
    "\n",
    "env = gym.make('Blackjack-v1', natural=True)"
   ]
  },
  {
   "cell_type": "markdown",
   "metadata": {},
   "source": [
    "### Часть 1"
   ]
  },
  {
   "cell_type": "code",
   "execution_count": 2,
   "metadata": {},
   "outputs": [],
   "source": [
    "Q = {}\n",
    "\n",
    "def choose_action_dummy(score):\n",
    "    return 0 if score > 18 else 1\n",
    "\n",
    "def choose_action_Q_learning(state, eps=0.1, act_size=2):\n",
    "    if np.random.rand() < eps:\n",
    "        action = np.random.choice(np.arange(act_size))\n",
    "    else:\n",
    "        if state not in Q:\n",
    "            Q[state] = np.zeros(act_size)\n",
    "        action = np.argmax(Q[state])\n",
    "    return action\n",
    "\n",
    "def single_game(method, eps=0.1, act_size=2):\n",
    "    states = []\n",
    "    actions = []\n",
    "    state = env.reset()\n",
    "    reward = 0\n",
    "    while True:\n",
    "        if method == 'dummy':\n",
    "            action = choose_action_dummy(state[0])\n",
    "        elif method == 'q':\n",
    "            action = choose_action_Q_learning(state, eps, act_size)\n",
    "        states.append(state)\n",
    "        actions.append(action)            \n",
    "        state, reward, done, _ = env.step(action)\n",
    "\n",
    "        if done:\n",
    "            break\n",
    "    return states, actions, reward\n",
    "\n",
    "def experiment(N_iters=1000000, method='dummy'):\n",
    "    total = 0.\n",
    "    for _ in range(N_iters):\n",
    "        _, _, reward = single_game(method)\n",
    "        total = total + reward\n",
    "    return total / N_iters"
   ]
  },
  {
   "cell_type": "code",
   "execution_count": 3,
   "metadata": {},
   "outputs": [],
   "source": [
    "def train(N_iters=100000, alpha=1e-5, gamma=1, eps=0.1, act_size=2):\n",
    "    for _ in range(N_iters):\n",
    "        states, actions, reward = single_game('q', eps, act_size)\n",
    "        for state, action in zip(states[::-1],actions[::-1]):\n",
    "            if state not in Q:\n",
    "                Q[state] = np.zeros(act_size)\n",
    "            reward = Q[state][action] + alpha * (reward + gamma * np.max(Q[state]) - Q[state][action])\n",
    "            Q[state][action] = reward\n",
    "\n",
    "def simulate(N_iters=100000, act_size=2):\n",
    "    total = 0.\n",
    "    for _ in range(N_iters):\n",
    "        state = env.reset()\n",
    "        while True:\n",
    "            if state not in Q:\n",
    "                Q[state] = np.zeros(act_size)\n",
    "            action = np.argmax(Q[state])\n",
    "            state, reward, done, _ = env.step(action)\n",
    "            if done:\n",
    "                break\n",
    "        total += reward\n",
    "    return total/N_iters"
   ]
  },
  {
   "cell_type": "code",
   "execution_count": 4,
   "metadata": {},
   "outputs": [],
   "source": [
    "train()"
   ]
  },
  {
   "cell_type": "markdown",
   "metadata": {},
   "source": [
    "Средний выигрыш при глупой стратегии"
   ]
  },
  {
   "cell_type": "code",
   "execution_count": 5,
   "metadata": {},
   "outputs": [
    {
     "data": {
      "text/plain": [
       "-0.197177"
      ]
     },
     "execution_count": 5,
     "metadata": {},
     "output_type": "execute_result"
    }
   ],
   "source": [
    "experiment()"
   ]
  },
  {
   "cell_type": "markdown",
   "metadata": {},
   "source": [
    "Средний выигрыш при Q обучении"
   ]
  },
  {
   "cell_type": "code",
   "execution_count": 6,
   "metadata": {},
   "outputs": [
    {
     "data": {
      "text/plain": [
       "-0.08396"
      ]
     },
     "execution_count": 6,
     "metadata": {},
     "output_type": "execute_result"
    }
   ],
   "source": [
    "simulate()"
   ]
  },
  {
   "cell_type": "markdown",
   "metadata": {},
   "source": [
    "графики среднего дохода метода Q-learning (усреднённого по крайней мере по 100000 раздач, а лучше больше) по ходу обучения."
   ]
  },
  {
   "cell_type": "code",
   "execution_count": 7,
   "metadata": {},
   "outputs": [
    {
     "name": "stderr",
     "output_type": "stream",
     "text": [
      "100%|██████████| 100/100 [06:48<00:00,  4.09s/it]\n"
     ]
    }
   ],
   "source": [
    "Q = {}\n",
    "result = []\n",
    "N_exps = 100\n",
    "N_iters=1000\n",
    "for i in tqdm(range(N_exps)):\n",
    "    train(N_iters=N_iters)\n",
    "    sub_result = simulate()\n",
    "    result.append(sub_result)\n",
    "    \n",
    "avg = [result[0]]\n",
    "for x in result[1:]:\n",
    "    avg.append((avg[-1]*len(avg)+x)/(1. + len(avg)))"
   ]
  },
  {
   "cell_type": "code",
   "execution_count": 9,
   "metadata": {},
   "outputs": [
    {
     "data": {
      "text/plain": [
       "[<matplotlib.lines.Line2D at 0x7fa0289af070>]"
      ]
     },
     "execution_count": 9,
     "metadata": {},
     "output_type": "execute_result"
    },
    {
     "data": {
      "image/png": "[encoded data removed]",
      "text/plain": [
       "<Figure size 432x288 with 1 Axes>"
      ]
     },
     "metadata": {
      "needs_background": "light"
     },
     "output_type": "display_data"
    }
   ],
   "source": [
    "plt.plot(avg)"
   ]
  },
  {
   "cell_type": "markdown",
   "metadata": {},
   "source": [
    "подберем eps и alpha"
   ]
  },
  {
   "cell_type": "code",
   "execution_count": 10,
   "metadata": {},
   "outputs": [
    {
     "name": "stderr",
     "output_type": "stream",
     "text": [
      "100%|██████████| 10/10 [15:21<00:00, 92.17s/it]"
     ]
    },
    {
     "name": "stdout",
     "output_type": "stream",
     "text": [
      "best_result: -0.05682, alpha: 1e-05, eps: 0.3566666666666667\n"
     ]
    },
    {
     "name": "stderr",
     "output_type": "stream",
     "text": [
      "\n"
     ]
    }
   ],
   "source": [
    "best = []\n",
    "best_result = -1.\n",
    "for alpha in tqdm(np.linspace(0.00001, 0.01, 10)):\n",
    "    for eps in np.linspace(0.01, 0.4, 10):\n",
    "        Q = {}\n",
    "        train(N_iters=100000, alpha=alpha, eps=eps)\n",
    "        result = simulate()\n",
    "        if result > best_result:\n",
    "            best_result = result\n",
    "            best = [alpha, eps]\n",
    "print(f\"best_result: {best_result}, alpha: {best[0]}, eps: {best[1]}\")"
   ]
  },
  {
   "cell_type": "markdown",
   "metadata": {},
   "source": [
    "### Часть 2"
   ]
  },
  {
   "cell_type": "code",
   "execution_count": 11,
   "metadata": {},
   "outputs": [],
   "source": [
    "#новый step\n",
    "def step(action):\n",
    "    if action == 2:            \n",
    "        state, reward, done, _ = env.step(1)\n",
    "        if not done:              \n",
    "            state, reward, done, _ = env.step(0)            \n",
    "        return state, 2 * reward, done, _   \n",
    "    else:\n",
    "        return env.step(action)\n",
    "\n",
    "# тут я дублирую код - я плохой человек\n",
    "def single_game(method, eps=0.1, act_size=2):\n",
    "    states = []\n",
    "    actions = []\n",
    "    state = env.reset()\n",
    "    reward = 0\n",
    "    while True:\n",
    "        if method == 'dummy':\n",
    "            action = choose_action_dummy(state[0])\n",
    "        elif method == 'q':\n",
    "            action = choose_action_Q_learning(state, eps, act_size)\n",
    "        states.append(state)\n",
    "        actions.append(action)            \n",
    "        state, reward, done, _ = step(action)\n",
    "\n",
    "        if done:\n",
    "            break\n",
    "    return states, actions, reward\n",
    "\n",
    "def simulate(N_iters=100000, act_size=2):\n",
    "    total = 0.\n",
    "    for _ in range(N_iters):\n",
    "        state = env.reset()\n",
    "        while True:\n",
    "            if state not in Q:\n",
    "                Q[state] = np.zeros(act_size)\n",
    "            action = np.argmax(Q[state])\n",
    "            state, reward, done, _ = step(action)\n",
    "            if done:\n",
    "                break\n",
    "        total += reward\n",
    "    return total/N_iters"
   ]
  },
  {
   "cell_type": "markdown",
   "metadata": {},
   "source": [
    "посмотрим, что там с выигрышем"
   ]
  },
  {
   "cell_type": "code",
   "execution_count": 12,
   "metadata": {},
   "outputs": [],
   "source": [
    "Q = {}\n",
    "train(N_iters=1000000, act_size=3)"
   ]
  },
  {
   "cell_type": "code",
   "execution_count": 13,
   "metadata": {},
   "outputs": [
    {
     "data": {
      "text/plain": [
       "-0.079572"
      ]
     },
     "execution_count": 13,
     "metadata": {},
     "output_type": "execute_result"
    }
   ],
   "source": [
    "simulate(N_iters=1000000, act_size=3)"
   ]
  },
  {
   "cell_type": "markdown",
   "metadata": {},
   "source": [
    "построим график"
   ]
  },
  {
   "cell_type": "code",
   "execution_count": 14,
   "metadata": {},
   "outputs": [
    {
     "name": "stderr",
     "output_type": "stream",
     "text": [
      "100%|██████████| 100/100 [06:52<00:00,  4.12s/it]\n"
     ]
    }
   ],
   "source": [
    "Q = {}\n",
    "result = []\n",
    "N_exps = 100\n",
    "N_iters=1000\n",
    "for i in tqdm(range(N_exps)):\n",
    "    train(N_iters=N_iters, act_size=3)\n",
    "    sub_result = simulate(act_size=3)\n",
    "    result.append(sub_result)\n",
    "    \n",
    "avg = [result[0]]\n",
    "for x in result[1:]:\n",
    "    avg.append((avg[-1]*len(avg)+x)/(1. + len(avg)))"
   ]
  },
  {
   "cell_type": "code",
   "execution_count": 15,
   "metadata": {},
   "outputs": [
    {
     "data": {
      "text/plain": [
       "[<matplotlib.lines.Line2D at 0x7fa0602d4310>]"
      ]
     },
     "execution_count": 15,
     "metadata": {},
     "output_type": "execute_result"
    },
    {
     "data": {
      "image/png": "[encoded data removed]",
      "text/plain": [
       "<Figure size 432x288 with 1 Axes>"
      ]
     },
     "metadata": {
      "needs_background": "light"
     },
     "output_type": "display_data"
    }
   ],
   "source": [
    "plt.plot(avg)"
   ]
  },
  {
   "cell_type": "code",
   "execution_count": 16,
   "metadata": {},
   "outputs": [
    {
     "name": "stderr",
     "output_type": "stream",
     "text": [
      "100%|██████████| 10/10 [15:19<00:00, 91.98s/it]"
     ]
    },
    {
     "name": "stdout",
     "output_type": "stream",
     "text": [
      "best_result: -0.07247, alpha: 1e-05, eps: 0.3184444444444444\n"
     ]
    },
    {
     "name": "stderr",
     "output_type": "stream",
     "text": [
      "\n"
     ]
    }
   ],
   "source": [
    "best = []\n",
    "best_result = -1.\n",
    "for alpha in tqdm(np.linspace(0.00001, 0.01, 10)):\n",
    "    for eps in np.linspace(0.01, 0.4, 10):\n",
    "        Q = {}\n",
    "        train(N_iters=100000, alpha=alpha, eps=eps, act_size=3)\n",
    "        result = simulate(act_size=3)\n",
    "        if result > best_result:\n",
    "            best_result = result\n",
    "            best = [alpha, eps]\n",
    "print(f\"best_result: {best_result}, alpha: {best[0]}, eps: {best[1]}\")"
   ]
  }
 ],
 "metadata": {
  "kernelspec": {
   "display_name": "Python 3",
   "language": "python",
   "name": "python3"
  },
  "language_info": {
   "codemirror_mode": {
    "name": "ipython",
    "version": 3
   },
   "file_extension": ".py",
   "mimetype": "text/x-python",
   "name": "python",
   "nbconvert_exporter": "python",
   "pygments_lexer": "ipython3",
   "version": "3.8.5"
  }
 },
 "nbformat": 4,
 "nbformat_minor": 4
}
